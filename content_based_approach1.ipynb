{
  "nbformat": 4,
  "nbformat_minor": 0,
  "metadata": {
    "kernelspec": {
      "display_name": "Python 3",
      "language": "python",
      "name": "python3"
    },
    "language_info": {
      "codemirror_mode": {
        "name": "ipython",
        "version": 3
      },
      "file_extension": ".py",
      "mimetype": "text/x-python",
      "name": "python",
      "nbconvert_exporter": "python",
      "pygments_lexer": "ipython3",
      "version": "3.8.2-final"
    },
    "colab": {
      "name": "content_based_recommender_approach1.ipynb",
      "provenance": [],
      "toc_visible": true
    },
    "accelerator": "GPU"
  },
  "cells": [
    {
      "cell_type": "code",
      "metadata": {
        "id": "9r6r67W0D4q3",
        "colab_type": "code",
        "colab": {}
      },
      "source": [
        "import numpy as np\n",
        "import pandas as pd\n",
        "import sklearn\n",
        "import nltk\n",
        "from nltk.corpus import stopwords\n",
        "from sklearn.feature_extraction.text import TfidfVectorizer\n",
        "from sklearn.metrics.pairwise import cosine_similarity\n",
        "from sklearn.metrics.pairwise import euclidean_distances\n",
        "from sklearn.metrics.pairwise import linear_kernel\n",
        "from Data_cleaning import *"
      ],
      "execution_count": 1,
      "outputs": []
    },
    {
      "cell_type": "markdown",
      "metadata": {
        "id": "aPg_6PkbHWfA",
        "colab_type": "text"
      },
      "source": [
        "# Xử lý dữ liệu "
      ]
    },
    {
      "cell_type": "code",
      "metadata": {
        "scrolled": true,
        "tags": [],
        "id": "Cn_NtqrWD4q9",
        "colab_type": "code",
        "colab": {
          "base_uri": "https://localhost:8080/",
          "height": 224
        },
        "outputId": "4dd4a655-7c7b-4fb8-bde6-a1fea7a94c6a"
      },
      "source": [
        "#import books, users, ratings clean data\n",
        "books, users, ratings = get_clean_data(path=\"/content/drive/My Drive/Colab Notebooks/recommendation_system/data/\")"
      ],
      "execution_count": 2,
      "outputs": [
        {
          "output_type": "stream",
          "text": [
            "b'Skipping line 6452: expected 8 fields, saw 9\\nSkipping line 43667: expected 8 fields, saw 10\\nSkipping line 51751: expected 8 fields, saw 9\\n'\n",
            "b'Skipping line 92038: expected 8 fields, saw 9\\nSkipping line 104319: expected 8 fields, saw 9\\nSkipping line 121768: expected 8 fields, saw 9\\n'\n",
            "b'Skipping line 144058: expected 8 fields, saw 9\\nSkipping line 150789: expected 8 fields, saw 9\\nSkipping line 157128: expected 8 fields, saw 9\\nSkipping line 180189: expected 8 fields, saw 9\\nSkipping line 185738: expected 8 fields, saw 9\\n'\n",
            "b'Skipping line 209388: expected 8 fields, saw 9\\nSkipping line 220626: expected 8 fields, saw 9\\nSkipping line 227933: expected 8 fields, saw 11\\nSkipping line 228957: expected 8 fields, saw 10\\nSkipping line 245933: expected 8 fields, saw 9\\nSkipping line 251296: expected 8 fields, saw 9\\nSkipping line 259941: expected 8 fields, saw 9\\nSkipping line 261529: expected 8 fields, saw 9\\n'\n",
            "/usr/local/lib/python3.6/dist-packages/IPython/core/interactiveshell.py:2822: DtypeWarning: Columns (3) have mixed types.Specify dtype option on import or set low_memory=False.\n",
            "  if self.run_code(code, result):\n",
            "/content/Data_cleaning.py:89: SettingWithCopyWarning: \n",
            "A value is trying to be set on a copy of a slice from a DataFrame\n",
            "\n",
            "See the caveats in the documentation: https://pandas.pydata.org/pandas-docs/stable/user_guide/indexing.html#returning-a-view-versus-a-copy\n",
            "  df_users.age[(df_users.age == 0) | (df_users.age > 122)] = None\n"
          ],
          "name": "stderr"
        }
      ]
    },
    {
      "cell_type": "code",
      "metadata": {
        "scrolled": true,
        "id": "U2oEaie9D4rD",
        "colab_type": "code",
        "colab": {
          "base_uri": "https://localhost:8080/",
          "height": 411
        },
        "outputId": "ebb40768-f6f0-464a-bd4f-ddbd33a18292"
      },
      "source": [
        "books.head()"
      ],
      "execution_count": 3,
      "outputs": [
        {
          "output_type": "execute_result",
          "data": {
            "text/html": [
              "<div>\n",
              "<style scoped>\n",
              "    .dataframe tbody tr th:only-of-type {\n",
              "        vertical-align: middle;\n",
              "    }\n",
              "\n",
              "    .dataframe tbody tr th {\n",
              "        vertical-align: top;\n",
              "    }\n",
              "\n",
              "    .dataframe thead th {\n",
              "        text-align: right;\n",
              "    }\n",
              "</style>\n",
              "<table border=\"1\" class=\"dataframe\">\n",
              "  <thead>\n",
              "    <tr style=\"text-align: right;\">\n",
              "      <th></th>\n",
              "      <th>isbn</th>\n",
              "      <th>title</th>\n",
              "      <th>author</th>\n",
              "      <th>pub_year</th>\n",
              "      <th>publisher</th>\n",
              "      <th>url_s</th>\n",
              "      <th>url_m</th>\n",
              "      <th>url_l</th>\n",
              "    </tr>\n",
              "  </thead>\n",
              "  <tbody>\n",
              "    <tr>\n",
              "      <th>0</th>\n",
              "      <td>0195153448</td>\n",
              "      <td>Classical Mythology</td>\n",
              "      <td>Mark P. O. Morford</td>\n",
              "      <td>2002.0</td>\n",
              "      <td>Oxford University Press</td>\n",
              "      <td>http://images.amazon.com/images/P/0195153448.0...</td>\n",
              "      <td>http://images.amazon.com/images/P/0195153448.0...</td>\n",
              "      <td>http://images.amazon.com/images/P/0195153448.0...</td>\n",
              "    </tr>\n",
              "    <tr>\n",
              "      <th>1</th>\n",
              "      <td>0002005018</td>\n",
              "      <td>Clara Callan</td>\n",
              "      <td>Richard Bruce Wright</td>\n",
              "      <td>2001.0</td>\n",
              "      <td>HarperFlamingo Canada</td>\n",
              "      <td>http://images.amazon.com/images/P/0002005018.0...</td>\n",
              "      <td>http://images.amazon.com/images/P/0002005018.0...</td>\n",
              "      <td>http://images.amazon.com/images/P/0002005018.0...</td>\n",
              "    </tr>\n",
              "    <tr>\n",
              "      <th>2</th>\n",
              "      <td>0060973129</td>\n",
              "      <td>Decision in Normandy</td>\n",
              "      <td>Carlo D'Este</td>\n",
              "      <td>1991.0</td>\n",
              "      <td>HarperPerennial</td>\n",
              "      <td>http://images.amazon.com/images/P/0060973129.0...</td>\n",
              "      <td>http://images.amazon.com/images/P/0060973129.0...</td>\n",
              "      <td>http://images.amazon.com/images/P/0060973129.0...</td>\n",
              "    </tr>\n",
              "    <tr>\n",
              "      <th>3</th>\n",
              "      <td>0374157065</td>\n",
              "      <td>Flu: The Story of the Great Influenza Pandemic...</td>\n",
              "      <td>Gina Bari Kolata</td>\n",
              "      <td>1999.0</td>\n",
              "      <td>Farrar Straus Giroux</td>\n",
              "      <td>http://images.amazon.com/images/P/0374157065.0...</td>\n",
              "      <td>http://images.amazon.com/images/P/0374157065.0...</td>\n",
              "      <td>http://images.amazon.com/images/P/0374157065.0...</td>\n",
              "    </tr>\n",
              "    <tr>\n",
              "      <th>4</th>\n",
              "      <td>0393045218</td>\n",
              "      <td>The Mummies of Urumchi</td>\n",
              "      <td>E. J. W. Barber</td>\n",
              "      <td>1999.0</td>\n",
              "      <td>W. W. Norton &amp;amp; Company</td>\n",
              "      <td>http://images.amazon.com/images/P/0393045218.0...</td>\n",
              "      <td>http://images.amazon.com/images/P/0393045218.0...</td>\n",
              "      <td>http://images.amazon.com/images/P/0393045218.0...</td>\n",
              "    </tr>\n",
              "  </tbody>\n",
              "</table>\n",
              "</div>"
            ],
            "text/plain": [
              "         isbn  ...                                              url_l\n",
              "0  0195153448  ...  http://images.amazon.com/images/P/0195153448.0...\n",
              "1  0002005018  ...  http://images.amazon.com/images/P/0002005018.0...\n",
              "2  0060973129  ...  http://images.amazon.com/images/P/0060973129.0...\n",
              "3  0374157065  ...  http://images.amazon.com/images/P/0374157065.0...\n",
              "4  0393045218  ...  http://images.amazon.com/images/P/0393045218.0...\n",
              "\n",
              "[5 rows x 8 columns]"
            ]
          },
          "metadata": {
            "tags": []
          },
          "execution_count": 3
        }
      ]
    },
    {
      "cell_type": "code",
      "metadata": {
        "id": "FtmPOI5qD4rH",
        "colab_type": "code",
        "colab": {
          "base_uri": "https://localhost:8080/",
          "height": 204
        },
        "outputId": "50e4290b-660e-4e29-84eb-526aeb0f6557"
      },
      "source": [
        "ratings.head()"
      ],
      "execution_count": 4,
      "outputs": [
        {
          "output_type": "execute_result",
          "data": {
            "text/html": [
              "<div>\n",
              "<style scoped>\n",
              "    .dataframe tbody tr th:only-of-type {\n",
              "        vertical-align: middle;\n",
              "    }\n",
              "\n",
              "    .dataframe tbody tr th {\n",
              "        vertical-align: top;\n",
              "    }\n",
              "\n",
              "    .dataframe thead th {\n",
              "        text-align: right;\n",
              "    }\n",
              "</style>\n",
              "<table border=\"1\" class=\"dataframe\">\n",
              "  <thead>\n",
              "    <tr style=\"text-align: right;\">\n",
              "      <th></th>\n",
              "      <th>user</th>\n",
              "      <th>isbn</th>\n",
              "      <th>rating</th>\n",
              "    </tr>\n",
              "  </thead>\n",
              "  <tbody>\n",
              "    <tr>\n",
              "      <th>0</th>\n",
              "      <td>276725</td>\n",
              "      <td>034545104X</td>\n",
              "      <td>0</td>\n",
              "    </tr>\n",
              "    <tr>\n",
              "      <th>1</th>\n",
              "      <td>276726</td>\n",
              "      <td>0155061224</td>\n",
              "      <td>5</td>\n",
              "    </tr>\n",
              "    <tr>\n",
              "      <th>2</th>\n",
              "      <td>276727</td>\n",
              "      <td>0446520802</td>\n",
              "      <td>0</td>\n",
              "    </tr>\n",
              "    <tr>\n",
              "      <th>3</th>\n",
              "      <td>276729</td>\n",
              "      <td>052165615X</td>\n",
              "      <td>3</td>\n",
              "    </tr>\n",
              "    <tr>\n",
              "      <th>4</th>\n",
              "      <td>276729</td>\n",
              "      <td>0521795028</td>\n",
              "      <td>6</td>\n",
              "    </tr>\n",
              "  </tbody>\n",
              "</table>\n",
              "</div>"
            ],
            "text/plain": [
              "     user        isbn  rating\n",
              "0  276725  034545104X       0\n",
              "1  276726  0155061224       5\n",
              "2  276727  0446520802       0\n",
              "3  276729  052165615X       3\n",
              "4  276729  0521795028       6"
            ]
          },
          "metadata": {
            "tags": []
          },
          "execution_count": 4
        }
      ]
    },
    {
      "cell_type": "code",
      "metadata": {
        "scrolled": true,
        "id": "1JnOYqluD4rM",
        "colab_type": "code",
        "colab": {
          "base_uri": "https://localhost:8080/",
          "height": 221
        },
        "outputId": "386607cc-dd96-4b1b-b88d-592a52ec87f2"
      },
      "source": [
        "#number of ratings received by each book\n",
        "usersPerIsbn = ratings['isbn'].value_counts()\n",
        "usersPerIsbn"
      ],
      "execution_count": 5,
      "outputs": [
        {
          "output_type": "execute_result",
          "data": {
            "text/plain": [
              "0971880107    2502\n",
              "0316666343    1295\n",
              "0385504209     883\n",
              "0060928336     732\n",
              "0312195516     723\n",
              "              ... \n",
              "0684185008       1\n",
              "0959365915       1\n",
              "187842484X       1\n",
              "0933377215       1\n",
              "8434866196       1\n",
              "Name: isbn, Length: 340556, dtype: int64"
            ]
          },
          "metadata": {
            "tags": []
          },
          "execution_count": 5
        }
      ]
    },
    {
      "cell_type": "code",
      "metadata": {
        "id": "WnD7-dcVD4rT",
        "colab_type": "code",
        "colab": {}
      },
      "source": [
        "books_10 = books[books['isbn'].isin(usersPerIsbn[usersPerIsbn>10].index)]\n",
        "books_10 = books_10.reset_index(drop=True)\n",
        "# books_10 = books[:50000]"
      ],
      "execution_count": 6,
      "outputs": []
    },
    {
      "cell_type": "markdown",
      "metadata": {
        "id": "C5m7xCc9D4rd",
        "colab_type": "text"
      },
      "source": [
        "# Chỉ sử dụng `Book-Title`"
      ]
    },
    {
      "cell_type": "code",
      "metadata": {
        "id": "UDvxXjcxD4re",
        "colab_type": "code",
        "colab": {
          "base_uri": "https://localhost:8080/",
          "height": 34
        },
        "outputId": "38b51c73-5647-4542-a22e-48d6023dc57a"
      },
      "source": [
        "vectorizer = TfidfVectorizer(analyzer='word')\n",
        "#build book-title tfidf matrix\n",
        "tfidf_matrix = vectorizer.fit_transform(books_10['title'])\n",
        "tfidf_matrix.shape"
      ],
      "execution_count": 7,
      "outputs": [
        {
          "output_type": "execute_result",
          "data": {
            "text/plain": [
              "(15452, 10972)"
            ]
          },
          "metadata": {
            "tags": []
          },
          "execution_count": 7
        }
      ]
    },
    {
      "cell_type": "code",
      "metadata": {
        "id": "2qhAOtF3D4r6",
        "colab_type": "code",
        "colab": {}
      },
      "source": [
        "#Function to get the most similar books\n",
        "indices_n = pd.Series(books_10['isbn']).to_dict()\n",
        "inddict = dict((v,k) for k,v in indices_n.items())\n",
        "def recommend_cosine(isbn, method):\n",
        "    id = inddict[isbn]\n",
        "    # sorting them and getting top 5\n",
        "    similarity_scores = list(enumerate(method[id]))\n",
        "    similarity_scores = sorted(similarity_scores, key=lambda x: x[1], reverse=True)\n",
        "    print(books_10.iloc[similarity_scores[0][0]]['isbn'])\n",
        "    similarity_scores = similarity_scores[1:6]\n",
        "    \n",
        "    #Get the books index\n",
        "    books_index = [i[0] for i in similarity_scores]\n",
        "    \n",
        "    #Return the top 5 most similar books using integar-location based indexing (iloc)\n",
        "    return books_10.iloc[books_index]\n",
        "\n",
        "def recommend_euclidean (isbn, method):\n",
        "    id = inddict[isbn]\n",
        "    # Get the pairwise similarity scores of all books compared that book,\n",
        "    # sorting them and getting top 5\n",
        "    similarity_scores = list(enumerate(method[id]))\n",
        "    similarity_scores = sorted(similarity_scores, key=lambda x: x[1])\n",
        "    print(books_10.iloc[similarity_scores[0][0]]['isbn'])\n",
        "    similarity_scores = similarity_scores[1:6]\n",
        "\n",
        "    #Get the books index\n",
        "    books_index = [i[0] for i in similarity_scores]\n",
        "    \n",
        "    #Return the top 5 most similar books using integar-location based indexing (iloc)\n",
        "    return books_10.iloc[books_index]"
      ],
      "execution_count": 18,
      "outputs": []
    },
    {
      "cell_type": "code",
      "metadata": {
        "id": "LMKKKmZ1D4sB",
        "colab_type": "code",
        "colab": {
          "base_uri": "https://localhost:8080/",
          "height": 170
        },
        "outputId": "eb151324-6928-4200-b130-b6bb202e3565"
      },
      "source": [
        "isbn_test = \"0971880107\"\n",
        "books_10.iloc[inddict[isbn_test]]"
      ],
      "execution_count": 9,
      "outputs": [
        {
          "output_type": "execute_result",
          "data": {
            "text/plain": [
              "isbn                                                0971880107\n",
              "title                                              Wild Animus\n",
              "author                                            Rich Shapero\n",
              "pub_year                                                  2004\n",
              "publisher                                              Too Far\n",
              "url_s        http://images.amazon.com/images/P/0971880107.0...\n",
              "url_m        http://images.amazon.com/images/P/0971880107.0...\n",
              "url_l        http://images.amazon.com/images/P/0971880107.0...\n",
              "Name: 7, dtype: object"
            ]
          },
          "metadata": {
            "tags": []
          },
          "execution_count": 9
        }
      ]
    },
    {
      "cell_type": "markdown",
      "metadata": {
        "id": "JqmfEcXiHsmX",
        "colab_type": "text"
      },
      "source": [
        "## Cosine similarity"
      ]
    },
    {
      "cell_type": "code",
      "metadata": {
        "id": "jqyS2GZKT0uf",
        "colab_type": "code",
        "colab": {}
      },
      "source": [
        "cosine_similarity = linear_kernel(tfidf_matrix, tfidf_matrix)\n"
      ],
      "execution_count": 10,
      "outputs": []
    },
    {
      "cell_type": "code",
      "metadata": {
        "scrolled": true,
        "id": "2C5QLSzED4ru",
        "colab_type": "code",
        "colab": {
          "base_uri": "https://localhost:8080/",
          "height": 377
        },
        "outputId": "35723920-7358-4f7c-d16e-8c17381be474"
      },
      "source": [
        "cosine_similarity = linear_kernel(tfidf_matrix, tfidf_matrix)\n",
        "recommend_cosine(isbn_test, cosine_similarity).head()"
      ],
      "execution_count": 11,
      "outputs": [
        {
          "output_type": "stream",
          "text": [
            "7\n"
          ],
          "name": "stdout"
        },
        {
          "output_type": "execute_result",
          "data": {
            "text/html": [
              "<div>\n",
              "<style scoped>\n",
              "    .dataframe tbody tr th:only-of-type {\n",
              "        vertical-align: middle;\n",
              "    }\n",
              "\n",
              "    .dataframe tbody tr th {\n",
              "        vertical-align: top;\n",
              "    }\n",
              "\n",
              "    .dataframe thead th {\n",
              "        text-align: right;\n",
              "    }\n",
              "</style>\n",
              "<table border=\"1\" class=\"dataframe\">\n",
              "  <thead>\n",
              "    <tr style=\"text-align: right;\">\n",
              "      <th></th>\n",
              "      <th>isbn</th>\n",
              "      <th>title</th>\n",
              "      <th>author</th>\n",
              "      <th>pub_year</th>\n",
              "      <th>publisher</th>\n",
              "      <th>url_s</th>\n",
              "      <th>url_m</th>\n",
              "      <th>url_l</th>\n",
              "    </tr>\n",
              "  </thead>\n",
              "  <tbody>\n",
              "    <tr>\n",
              "      <th>5309</th>\n",
              "      <td>0812512774</td>\n",
              "      <td>Wild</td>\n",
              "      <td>Whitley Strieber</td>\n",
              "      <td>1991.0</td>\n",
              "      <td>Tor Books</td>\n",
              "      <td>http://images.amazon.com/images/P/0812512774.0...</td>\n",
              "      <td>http://images.amazon.com/images/P/0812512774.0...</td>\n",
              "      <td>http://images.amazon.com/images/P/0812512774.0...</td>\n",
              "    </tr>\n",
              "    <tr>\n",
              "      <th>13062</th>\n",
              "      <td>0515132292</td>\n",
              "      <td>Wild</td>\n",
              "      <td>Lori Foster</td>\n",
              "      <td>2002.0</td>\n",
              "      <td>Jove Books</td>\n",
              "      <td>http://images.amazon.com/images/P/0515132292.0...</td>\n",
              "      <td>http://images.amazon.com/images/P/0515132292.0...</td>\n",
              "      <td>http://images.amazon.com/images/P/0515132292.0...</td>\n",
              "    </tr>\n",
              "    <tr>\n",
              "      <th>15153</th>\n",
              "      <td>0684867982</td>\n",
              "      <td>Wild Life : A Novel</td>\n",
              "      <td>Molly Gloss</td>\n",
              "      <td>2000.0</td>\n",
              "      <td>Simon &amp;amp; Schuster</td>\n",
              "      <td>http://images.amazon.com/images/P/0684867982.0...</td>\n",
              "      <td>http://images.amazon.com/images/P/0684867982.0...</td>\n",
              "      <td>http://images.amazon.com/images/P/0684867982.0...</td>\n",
              "    </tr>\n",
              "    <tr>\n",
              "      <th>6152</th>\n",
              "      <td>0345423038</td>\n",
              "      <td>The Wild Road</td>\n",
              "      <td>Gabriel King</td>\n",
              "      <td>1999.0</td>\n",
              "      <td>Del Rey Books</td>\n",
              "      <td>http://images.amazon.com/images/P/0345423038.0...</td>\n",
              "      <td>http://images.amazon.com/images/P/0345423038.0...</td>\n",
              "      <td>http://images.amazon.com/images/P/0345423038.0...</td>\n",
              "    </tr>\n",
              "    <tr>\n",
              "      <th>8851</th>\n",
              "      <td>0553297619</td>\n",
              "      <td>The Wild Rose</td>\n",
              "      <td>Doris Mortman</td>\n",
              "      <td>1992.0</td>\n",
              "      <td>Bantam Books</td>\n",
              "      <td>http://images.amazon.com/images/P/0553297619.0...</td>\n",
              "      <td>http://images.amazon.com/images/P/0553297619.0...</td>\n",
              "      <td>http://images.amazon.com/images/P/0553297619.0...</td>\n",
              "    </tr>\n",
              "  </tbody>\n",
              "</table>\n",
              "</div>"
            ],
            "text/plain": [
              "             isbn  ...                                              url_l\n",
              "5309   0812512774  ...  http://images.amazon.com/images/P/0812512774.0...\n",
              "13062  0515132292  ...  http://images.amazon.com/images/P/0515132292.0...\n",
              "15153  0684867982  ...  http://images.amazon.com/images/P/0684867982.0...\n",
              "6152   0345423038  ...  http://images.amazon.com/images/P/0345423038.0...\n",
              "8851   0553297619  ...  http://images.amazon.com/images/P/0553297619.0...\n",
              "\n",
              "[5 rows x 8 columns]"
            ]
          },
          "metadata": {
            "tags": []
          },
          "execution_count": 11
        }
      ]
    },
    {
      "cell_type": "markdown",
      "metadata": {
        "id": "MYamcYQ_H41h",
        "colab_type": "text"
      },
      "source": [
        "## Euclidean Distance"
      ]
    },
    {
      "cell_type": "code",
      "metadata": {
        "id": "c6TgntENID_6",
        "colab_type": "code",
        "colab": {
          "base_uri": "https://localhost:8080/",
          "height": 326
        },
        "outputId": "d5fa6275-85bc-4b77-99f6-dd04022da3d3"
      },
      "source": [
        "euclidean = euclidean_distances(tfidf_matrix)\n",
        "recommend_euclidean(isbn_test, euclidean)\n"
      ],
      "execution_count": 12,
      "outputs": [
        {
          "output_type": "stream",
          "text": [
            "7\n"
          ],
          "name": "stdout"
        },
        {
          "output_type": "execute_result",
          "data": {
            "text/html": [
              "<div>\n",
              "<style scoped>\n",
              "    .dataframe tbody tr th:only-of-type {\n",
              "        vertical-align: middle;\n",
              "    }\n",
              "\n",
              "    .dataframe tbody tr th {\n",
              "        vertical-align: top;\n",
              "    }\n",
              "\n",
              "    .dataframe thead th {\n",
              "        text-align: right;\n",
              "    }\n",
              "</style>\n",
              "<table border=\"1\" class=\"dataframe\">\n",
              "  <thead>\n",
              "    <tr style=\"text-align: right;\">\n",
              "      <th></th>\n",
              "      <th>isbn</th>\n",
              "      <th>title</th>\n",
              "      <th>author</th>\n",
              "      <th>pub_year</th>\n",
              "      <th>publisher</th>\n",
              "      <th>url_s</th>\n",
              "      <th>url_m</th>\n",
              "      <th>url_l</th>\n",
              "    </tr>\n",
              "  </thead>\n",
              "  <tbody>\n",
              "    <tr>\n",
              "      <th>5309</th>\n",
              "      <td>0812512774</td>\n",
              "      <td>Wild</td>\n",
              "      <td>Whitley Strieber</td>\n",
              "      <td>1991.0</td>\n",
              "      <td>Tor Books</td>\n",
              "      <td>http://images.amazon.com/images/P/0812512774.0...</td>\n",
              "      <td>http://images.amazon.com/images/P/0812512774.0...</td>\n",
              "      <td>http://images.amazon.com/images/P/0812512774.0...</td>\n",
              "    </tr>\n",
              "    <tr>\n",
              "      <th>13062</th>\n",
              "      <td>0515132292</td>\n",
              "      <td>Wild</td>\n",
              "      <td>Lori Foster</td>\n",
              "      <td>2002.0</td>\n",
              "      <td>Jove Books</td>\n",
              "      <td>http://images.amazon.com/images/P/0515132292.0...</td>\n",
              "      <td>http://images.amazon.com/images/P/0515132292.0...</td>\n",
              "      <td>http://images.amazon.com/images/P/0515132292.0...</td>\n",
              "    </tr>\n",
              "    <tr>\n",
              "      <th>2050</th>\n",
              "      <td>0151010633</td>\n",
              "      <td>Q</td>\n",
              "      <td>Luther Blissett</td>\n",
              "      <td>2004.0</td>\n",
              "      <td>Harcourt</td>\n",
              "      <td>http://images.amazon.com/images/P/0151010633.0...</td>\n",
              "      <td>http://images.amazon.com/images/P/0151010633.0...</td>\n",
              "      <td>http://images.amazon.com/images/P/0151010633.0...</td>\n",
              "    </tr>\n",
              "    <tr>\n",
              "      <th>4208</th>\n",
              "      <td>0452281881</td>\n",
              "      <td>e</td>\n",
              "      <td>Matt Beaumont</td>\n",
              "      <td>2000.0</td>\n",
              "      <td>Plume Books</td>\n",
              "      <td>http://images.amazon.com/images/P/0452281881.0...</td>\n",
              "      <td>http://images.amazon.com/images/P/0452281881.0...</td>\n",
              "      <td>http://images.amazon.com/images/P/0452281881.0...</td>\n",
              "    </tr>\n",
              "    <tr>\n",
              "      <th>5043</th>\n",
              "      <td>0449216527</td>\n",
              "      <td>S.</td>\n",
              "      <td>John Updike</td>\n",
              "      <td>1994.0</td>\n",
              "      <td>Fawcett Books</td>\n",
              "      <td>http://images.amazon.com/images/P/0449216527.0...</td>\n",
              "      <td>http://images.amazon.com/images/P/0449216527.0...</td>\n",
              "      <td>http://images.amazon.com/images/P/0449216527.0...</td>\n",
              "    </tr>\n",
              "  </tbody>\n",
              "</table>\n",
              "</div>"
            ],
            "text/plain": [
              "             isbn  ...                                              url_l\n",
              "5309   0812512774  ...  http://images.amazon.com/images/P/0812512774.0...\n",
              "13062  0515132292  ...  http://images.amazon.com/images/P/0515132292.0...\n",
              "2050   0151010633  ...  http://images.amazon.com/images/P/0151010633.0...\n",
              "4208   0452281881  ...  http://images.amazon.com/images/P/0452281881.0...\n",
              "5043   0449216527  ...  http://images.amazon.com/images/P/0449216527.0...\n",
              "\n",
              "[5 rows x 8 columns]"
            ]
          },
          "metadata": {
            "tags": []
          },
          "execution_count": 12
        }
      ]
    },
    {
      "cell_type": "markdown",
      "metadata": {
        "id": "YSgdTFLYD4sG",
        "colab_type": "text"
      },
      "source": [
        "# Sử dụng 3 trường `Book-Title`, `Book-Author`, `Publisher`\n"
      ]
    },
    {
      "cell_type": "code",
      "metadata": {
        "id": "WPvtJX62D4sH",
        "colab_type": "code",
        "colab": {
          "base_uri": "https://localhost:8080/",
          "height": 411
        },
        "outputId": "d5e515a1-ac05-4652-dcbb-613dd8f9102f"
      },
      "source": [
        "books_10['all_content'] = books_10['title'] + books_10['author'] + books_10['publisher']\n",
        "books_10.head(5)"
      ],
      "execution_count": 19,
      "outputs": [
        {
          "output_type": "execute_result",
          "data": {
            "text/html": [
              "<div>\n",
              "<style scoped>\n",
              "    .dataframe tbody tr th:only-of-type {\n",
              "        vertical-align: middle;\n",
              "    }\n",
              "\n",
              "    .dataframe tbody tr th {\n",
              "        vertical-align: top;\n",
              "    }\n",
              "\n",
              "    .dataframe thead th {\n",
              "        text-align: right;\n",
              "    }\n",
              "</style>\n",
              "<table border=\"1\" class=\"dataframe\">\n",
              "  <thead>\n",
              "    <tr style=\"text-align: right;\">\n",
              "      <th></th>\n",
              "      <th>isbn</th>\n",
              "      <th>title</th>\n",
              "      <th>author</th>\n",
              "      <th>pub_year</th>\n",
              "      <th>publisher</th>\n",
              "      <th>url_s</th>\n",
              "      <th>url_m</th>\n",
              "      <th>url_l</th>\n",
              "      <th>all_content</th>\n",
              "    </tr>\n",
              "  </thead>\n",
              "  <tbody>\n",
              "    <tr>\n",
              "      <th>0</th>\n",
              "      <td>0002005018</td>\n",
              "      <td>Clara Callan</td>\n",
              "      <td>Richard Bruce Wright</td>\n",
              "      <td>2001.0</td>\n",
              "      <td>HarperFlamingo Canada</td>\n",
              "      <td>http://images.amazon.com/images/P/0002005018.0...</td>\n",
              "      <td>http://images.amazon.com/images/P/0002005018.0...</td>\n",
              "      <td>http://images.amazon.com/images/P/0002005018.0...</td>\n",
              "      <td>Clara CallanRichard Bruce WrightHarperFlamingo...</td>\n",
              "    </tr>\n",
              "    <tr>\n",
              "      <th>1</th>\n",
              "      <td>0374157065</td>\n",
              "      <td>Flu: The Story of the Great Influenza Pandemic...</td>\n",
              "      <td>Gina Bari Kolata</td>\n",
              "      <td>1999.0</td>\n",
              "      <td>Farrar Straus Giroux</td>\n",
              "      <td>http://images.amazon.com/images/P/0374157065.0...</td>\n",
              "      <td>http://images.amazon.com/images/P/0374157065.0...</td>\n",
              "      <td>http://images.amazon.com/images/P/0374157065.0...</td>\n",
              "      <td>Flu: The Story of the Great Influenza Pandemic...</td>\n",
              "    </tr>\n",
              "    <tr>\n",
              "      <th>2</th>\n",
              "      <td>0399135782</td>\n",
              "      <td>The Kitchen God's Wife</td>\n",
              "      <td>Amy Tan</td>\n",
              "      <td>1991.0</td>\n",
              "      <td>Putnam Pub Group</td>\n",
              "      <td>http://images.amazon.com/images/P/0399135782.0...</td>\n",
              "      <td>http://images.amazon.com/images/P/0399135782.0...</td>\n",
              "      <td>http://images.amazon.com/images/P/0399135782.0...</td>\n",
              "      <td>The Kitchen God's WifeAmy TanPutnam Pub Group</td>\n",
              "    </tr>\n",
              "    <tr>\n",
              "      <th>3</th>\n",
              "      <td>0440234743</td>\n",
              "      <td>The Testament</td>\n",
              "      <td>John Grisham</td>\n",
              "      <td>1999.0</td>\n",
              "      <td>Dell</td>\n",
              "      <td>http://images.amazon.com/images/P/0440234743.0...</td>\n",
              "      <td>http://images.amazon.com/images/P/0440234743.0...</td>\n",
              "      <td>http://images.amazon.com/images/P/0440234743.0...</td>\n",
              "      <td>The TestamentJohn GrishamDell</td>\n",
              "    </tr>\n",
              "    <tr>\n",
              "      <th>4</th>\n",
              "      <td>0452264464</td>\n",
              "      <td>Beloved (Plume Contemporary Fiction)</td>\n",
              "      <td>Toni Morrison</td>\n",
              "      <td>1994.0</td>\n",
              "      <td>Plume</td>\n",
              "      <td>http://images.amazon.com/images/P/0452264464.0...</td>\n",
              "      <td>http://images.amazon.com/images/P/0452264464.0...</td>\n",
              "      <td>http://images.amazon.com/images/P/0452264464.0...</td>\n",
              "      <td>Beloved (Plume Contemporary Fiction)Toni Morri...</td>\n",
              "    </tr>\n",
              "  </tbody>\n",
              "</table>\n",
              "</div>"
            ],
            "text/plain": [
              "         isbn  ...                                        all_content\n",
              "0  0002005018  ...  Clara CallanRichard Bruce WrightHarperFlamingo...\n",
              "1  0374157065  ...  Flu: The Story of the Great Influenza Pandemic...\n",
              "2  0399135782  ...      The Kitchen God's WifeAmy TanPutnam Pub Group\n",
              "3  0440234743  ...                      The TestamentJohn GrishamDell\n",
              "4  0452264464  ...  Beloved (Plume Contemporary Fiction)Toni Morri...\n",
              "\n",
              "[5 rows x 9 columns]"
            ]
          },
          "metadata": {
            "tags": []
          },
          "execution_count": 19
        }
      ]
    },
    {
      "cell_type": "code",
      "metadata": {
        "id": "GVLee6xpD4sK",
        "colab_type": "code",
        "colab": {
          "base_uri": "https://localhost:8080/",
          "height": 34
        },
        "outputId": "12baf264-a31f-4e09-8d90-09e5554b101a"
      },
      "source": [
        "tfidf_all_content = vectorizer.fit_transform(books_10['all_content'])\n",
        "tfidf_all_content.shape"
      ],
      "execution_count": 14,
      "outputs": [
        {
          "output_type": "execute_result",
          "data": {
            "text/plain": [
              "(15452, 25806)"
            ]
          },
          "metadata": {
            "tags": []
          },
          "execution_count": 14
        }
      ]
    },
    {
      "cell_type": "code",
      "metadata": {
        "id": "7dbr6KjuU1Lq",
        "colab_type": "code",
        "colab": {
          "base_uri": "https://localhost:8080/",
          "height": 187
        },
        "outputId": "dce62603-10f0-48ad-fa6a-14d76e9a8586"
      },
      "source": [
        "isbn_test = \"0971880107\"\n",
        "books_10.iloc[inddict[isbn_test]]"
      ],
      "execution_count": 17,
      "outputs": [
        {
          "output_type": "execute_result",
          "data": {
            "text/plain": [
              "isbn                                                  0971880107\n",
              "title                                                Wild Animus\n",
              "author                                              Rich Shapero\n",
              "pub_year                                                    2004\n",
              "publisher                                                Too Far\n",
              "url_s          http://images.amazon.com/images/P/0971880107.0...\n",
              "url_m          http://images.amazon.com/images/P/0971880107.0...\n",
              "url_l          http://images.amazon.com/images/P/0971880107.0...\n",
              "all_content                       Wild AnimusRich ShaperoToo Far\n",
              "Name: 7, dtype: object"
            ]
          },
          "metadata": {
            "tags": []
          },
          "execution_count": 17
        }
      ]
    },
    {
      "cell_type": "markdown",
      "metadata": {
        "id": "6oVHQYWXI-gi",
        "colab_type": "text"
      },
      "source": [
        "## Cosine similarity"
      ]
    },
    {
      "cell_type": "code",
      "metadata": {
        "id": "hZ1zJ20WD4sR",
        "colab_type": "code",
        "colab": {
          "base_uri": "https://localhost:8080/",
          "height": 683
        },
        "outputId": "0f86478c-90fc-4ee1-fe9b-11d439cfd579"
      },
      "source": [
        "# comping cosine similarity matrix using linear_kernal of sklearn\n",
        "cosine_similarity_all_content = linear_kernel(tfidf_all_content, tfidf_all_content)\n",
        "recommend_cosine(isbn_test, cosine_similarity_all_content)"
      ],
      "execution_count": 20,
      "outputs": [
        {
          "output_type": "stream",
          "text": [
            "isbn                                                  0971880107\n",
            "title                                                Wild Animus\n",
            "author                                              Rich Shapero\n",
            "pub_year                                                    2004\n",
            "publisher                                                Too Far\n",
            "url_s          http://images.amazon.com/images/P/0971880107.0...\n",
            "url_m          http://images.amazon.com/images/P/0971880107.0...\n",
            "url_l          http://images.amazon.com/images/P/0971880107.0...\n",
            "all_content                       Wild AnimusRich ShaperoToo Far\n",
            "Name: 7, dtype: object\n"
          ],
          "name": "stdout"
        },
        {
          "output_type": "execute_result",
          "data": {
            "text/html": [
              "<div>\n",
              "<style scoped>\n",
              "    .dataframe tbody tr th:only-of-type {\n",
              "        vertical-align: middle;\n",
              "    }\n",
              "\n",
              "    .dataframe tbody tr th {\n",
              "        vertical-align: top;\n",
              "    }\n",
              "\n",
              "    .dataframe thead th {\n",
              "        text-align: right;\n",
              "    }\n",
              "</style>\n",
              "<table border=\"1\" class=\"dataframe\">\n",
              "  <thead>\n",
              "    <tr style=\"text-align: right;\">\n",
              "      <th></th>\n",
              "      <th>isbn</th>\n",
              "      <th>title</th>\n",
              "      <th>author</th>\n",
              "      <th>pub_year</th>\n",
              "      <th>publisher</th>\n",
              "      <th>url_s</th>\n",
              "      <th>url_m</th>\n",
              "      <th>url_l</th>\n",
              "      <th>all_content</th>\n",
              "    </tr>\n",
              "  </thead>\n",
              "  <tbody>\n",
              "    <tr>\n",
              "      <th>5606</th>\n",
              "      <td>0836220870</td>\n",
              "      <td>Hound Of The Far Side (Far Side Books, Collect...</td>\n",
              "      <td>Gary Larson</td>\n",
              "      <td>1987.0</td>\n",
              "      <td>Andrews McMeel Publishing</td>\n",
              "      <td>http://images.amazon.com/images/P/0836220870.0...</td>\n",
              "      <td>http://images.amazon.com/images/P/0836220870.0...</td>\n",
              "      <td>http://images.amazon.com/images/P/0836220870.0...</td>\n",
              "      <td>Hound Of The Far Side (Far Side Books, Collect...</td>\n",
              "    </tr>\n",
              "    <tr>\n",
              "      <th>15408</th>\n",
              "      <td>0671027077</td>\n",
              "      <td>Far Harbor</td>\n",
              "      <td>JoAnn Ross</td>\n",
              "      <td>2000.0</td>\n",
              "      <td>Pocket</td>\n",
              "      <td>http://images.amazon.com/images/P/0671027077.0...</td>\n",
              "      <td>http://images.amazon.com/images/P/0671027077.0...</td>\n",
              "      <td>http://images.amazon.com/images/P/0671027077.0...</td>\n",
              "      <td>Far HarborJoAnn RossPocket</td>\n",
              "    </tr>\n",
              "    <tr>\n",
              "      <th>12299</th>\n",
              "      <td>0836212002</td>\n",
              "      <td>The Far Side</td>\n",
              "      <td>Gary Larson</td>\n",
              "      <td>1982.0</td>\n",
              "      <td>Andrews McMeel Publishing</td>\n",
              "      <td>http://images.amazon.com/images/P/0836212002.0...</td>\n",
              "      <td>http://images.amazon.com/images/P/0836212002.0...</td>\n",
              "      <td>http://images.amazon.com/images/P/0836212002.0...</td>\n",
              "      <td>The Far SideGary LarsonAndrews McMeel Publishing</td>\n",
              "    </tr>\n",
              "    <tr>\n",
              "      <th>5303</th>\n",
              "      <td>055312997X</td>\n",
              "      <td>The Far Pavillions</td>\n",
              "      <td>M. M. Kaye</td>\n",
              "      <td>1978.0</td>\n",
              "      <td>Bantam Books</td>\n",
              "      <td>http://images.amazon.com/images/P/055312997X.0...</td>\n",
              "      <td>http://images.amazon.com/images/P/055312997X.0...</td>\n",
              "      <td>http://images.amazon.com/images/P/055312997X.0...</td>\n",
              "      <td>The Far PavillionsM. M. KayeBantam Books</td>\n",
              "    </tr>\n",
              "    <tr>\n",
              "      <th>14307</th>\n",
              "      <td>0515120448</td>\n",
              "      <td>The Wild Baron</td>\n",
              "      <td>Catherine Coulter</td>\n",
              "      <td>1997.0</td>\n",
              "      <td>Jove Books</td>\n",
              "      <td>http://images.amazon.com/images/P/0515120448.0...</td>\n",
              "      <td>http://images.amazon.com/images/P/0515120448.0...</td>\n",
              "      <td>http://images.amazon.com/images/P/0515120448.0...</td>\n",
              "      <td>The Wild BaronCatherine CoulterJove Books</td>\n",
              "    </tr>\n",
              "  </tbody>\n",
              "</table>\n",
              "</div>"
            ],
            "text/plain": [
              "             isbn  ...                                        all_content\n",
              "5606   0836220870  ...  Hound Of The Far Side (Far Side Books, Collect...\n",
              "15408  0671027077  ...                         Far HarborJoAnn RossPocket\n",
              "12299  0836212002  ...   The Far SideGary LarsonAndrews McMeel Publishing\n",
              "5303   055312997X  ...           The Far PavillionsM. M. KayeBantam Books\n",
              "14307  0515120448  ...          The Wild BaronCatherine CoulterJove Books\n",
              "\n",
              "[5 rows x 9 columns]"
            ]
          },
          "metadata": {
            "tags": []
          },
          "execution_count": 20
        }
      ]
    },
    {
      "cell_type": "markdown",
      "metadata": {
        "id": "tPnBuD2ND4sY",
        "colab_type": "text"
      },
      "source": [
        "---"
      ]
    },
    {
      "cell_type": "markdown",
      "metadata": {
        "id": "oLBUOyrBD4sb",
        "colab_type": "text"
      },
      "source": [
        "## Euclidean Distance"
      ]
    },
    {
      "cell_type": "code",
      "metadata": {
        "id": "zCd-FfrlD4se",
        "colab_type": "code",
        "colab": {
          "base_uri": "https://localhost:8080/",
          "height": 683
        },
        "outputId": "1dac7369-cd72-4131-a4cf-0b2accfe825e"
      },
      "source": [
        "euclidean_all_contend = euclidean_distances(tfidf_all_content)\n",
        "recommend_euclidean(isbn_test, euclidean_all_contend)"
      ],
      "execution_count": 21,
      "outputs": [
        {
          "output_type": "stream",
          "text": [
            "isbn                                                  0971880107\n",
            "title                                                Wild Animus\n",
            "author                                              Rich Shapero\n",
            "pub_year                                                    2004\n",
            "publisher                                                Too Far\n",
            "url_s          http://images.amazon.com/images/P/0971880107.0...\n",
            "url_m          http://images.amazon.com/images/P/0971880107.0...\n",
            "url_l          http://images.amazon.com/images/P/0971880107.0...\n",
            "all_content                       Wild AnimusRich ShaperoToo Far\n",
            "Name: 7, dtype: object\n"
          ],
          "name": "stdout"
        },
        {
          "output_type": "execute_result",
          "data": {
            "text/html": [
              "<div>\n",
              "<style scoped>\n",
              "    .dataframe tbody tr th:only-of-type {\n",
              "        vertical-align: middle;\n",
              "    }\n",
              "\n",
              "    .dataframe tbody tr th {\n",
              "        vertical-align: top;\n",
              "    }\n",
              "\n",
              "    .dataframe thead th {\n",
              "        text-align: right;\n",
              "    }\n",
              "</style>\n",
              "<table border=\"1\" class=\"dataframe\">\n",
              "  <thead>\n",
              "    <tr style=\"text-align: right;\">\n",
              "      <th></th>\n",
              "      <th>isbn</th>\n",
              "      <th>title</th>\n",
              "      <th>author</th>\n",
              "      <th>pub_year</th>\n",
              "      <th>publisher</th>\n",
              "      <th>url_s</th>\n",
              "      <th>url_m</th>\n",
              "      <th>url_l</th>\n",
              "      <th>all_content</th>\n",
              "    </tr>\n",
              "  </thead>\n",
              "  <tbody>\n",
              "    <tr>\n",
              "      <th>5606</th>\n",
              "      <td>0836220870</td>\n",
              "      <td>Hound Of The Far Side (Far Side Books, Collect...</td>\n",
              "      <td>Gary Larson</td>\n",
              "      <td>1987.0</td>\n",
              "      <td>Andrews McMeel Publishing</td>\n",
              "      <td>http://images.amazon.com/images/P/0836220870.0...</td>\n",
              "      <td>http://images.amazon.com/images/P/0836220870.0...</td>\n",
              "      <td>http://images.amazon.com/images/P/0836220870.0...</td>\n",
              "      <td>Hound Of The Far Side (Far Side Books, Collect...</td>\n",
              "    </tr>\n",
              "    <tr>\n",
              "      <th>15408</th>\n",
              "      <td>0671027077</td>\n",
              "      <td>Far Harbor</td>\n",
              "      <td>JoAnn Ross</td>\n",
              "      <td>2000.0</td>\n",
              "      <td>Pocket</td>\n",
              "      <td>http://images.amazon.com/images/P/0671027077.0...</td>\n",
              "      <td>http://images.amazon.com/images/P/0671027077.0...</td>\n",
              "      <td>http://images.amazon.com/images/P/0671027077.0...</td>\n",
              "      <td>Far HarborJoAnn RossPocket</td>\n",
              "    </tr>\n",
              "    <tr>\n",
              "      <th>12299</th>\n",
              "      <td>0836212002</td>\n",
              "      <td>The Far Side</td>\n",
              "      <td>Gary Larson</td>\n",
              "      <td>1982.0</td>\n",
              "      <td>Andrews McMeel Publishing</td>\n",
              "      <td>http://images.amazon.com/images/P/0836212002.0...</td>\n",
              "      <td>http://images.amazon.com/images/P/0836212002.0...</td>\n",
              "      <td>http://images.amazon.com/images/P/0836212002.0...</td>\n",
              "      <td>The Far SideGary LarsonAndrews McMeel Publishing</td>\n",
              "    </tr>\n",
              "    <tr>\n",
              "      <th>5303</th>\n",
              "      <td>055312997X</td>\n",
              "      <td>The Far Pavillions</td>\n",
              "      <td>M. M. Kaye</td>\n",
              "      <td>1978.0</td>\n",
              "      <td>Bantam Books</td>\n",
              "      <td>http://images.amazon.com/images/P/055312997X.0...</td>\n",
              "      <td>http://images.amazon.com/images/P/055312997X.0...</td>\n",
              "      <td>http://images.amazon.com/images/P/055312997X.0...</td>\n",
              "      <td>The Far PavillionsM. M. KayeBantam Books</td>\n",
              "    </tr>\n",
              "    <tr>\n",
              "      <th>14307</th>\n",
              "      <td>0515120448</td>\n",
              "      <td>The Wild Baron</td>\n",
              "      <td>Catherine Coulter</td>\n",
              "      <td>1997.0</td>\n",
              "      <td>Jove Books</td>\n",
              "      <td>http://images.amazon.com/images/P/0515120448.0...</td>\n",
              "      <td>http://images.amazon.com/images/P/0515120448.0...</td>\n",
              "      <td>http://images.amazon.com/images/P/0515120448.0...</td>\n",
              "      <td>The Wild BaronCatherine CoulterJove Books</td>\n",
              "    </tr>\n",
              "  </tbody>\n",
              "</table>\n",
              "</div>"
            ],
            "text/plain": [
              "             isbn  ...                                        all_content\n",
              "5606   0836220870  ...  Hound Of The Far Side (Far Side Books, Collect...\n",
              "15408  0671027077  ...                         Far HarborJoAnn RossPocket\n",
              "12299  0836212002  ...   The Far SideGary LarsonAndrews McMeel Publishing\n",
              "5303   055312997X  ...           The Far PavillionsM. M. KayeBantam Books\n",
              "14307  0515120448  ...          The Wild BaronCatherine CoulterJove Books\n",
              "\n",
              "[5 rows x 9 columns]"
            ]
          },
          "metadata": {
            "tags": []
          },
          "execution_count": 21
        }
      ]
    },
    {
      "cell_type": "markdown",
      "metadata": {
        "id": "a7mFblDCD4sm",
        "colab_type": "text"
      },
      "source": [
        "---"
      ]
    }
  ]
}