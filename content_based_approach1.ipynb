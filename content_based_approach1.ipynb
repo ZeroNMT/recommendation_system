{
  "nbformat": 4,
  "nbformat_minor": 0,
  "metadata": {
    "kernelspec": {
      "display_name": "Python 3",
      "language": "python",
      "name": "python3"
    },
    "language_info": {
      "codemirror_mode": {
        "name": "ipython",
        "version": 3
      },
      "file_extension": ".py",
      "mimetype": "text/x-python",
      "name": "python",
      "nbconvert_exporter": "python",
      "pygments_lexer": "ipython3",
      "version": "3.8.2-final"
    },
    "colab": {
      "name": "content_based_recommender_approach1.ipynb",
      "provenance": [],
      "toc_visible": true
    },
    "accelerator": "GPU"
  },
  "cells": [
    {
      "cell_type": "code",
      "metadata": {
        "id": "9r6r67W0D4q3",
        "colab_type": "code",
        "colab": {}
      },
      "source": [
        "import numpy as np\n",
        "import pandas as pd\n",
        "import sklearn\n",
        "import nltk\n",
        "from nltk.corpus import stopwords\n",
        "from sklearn.feature_extraction.text import TfidfVectorizer\n",
        "from sklearn.metrics.pairwise import cosine_similarity\n",
        "from sklearn.metrics.pairwise import euclidean_distances\n",
        "from sklearn.metrics.pairwise import linear_kernel\n",
        "from Data_cleaning import *"
      ],
      "execution_count": 1,
      "outputs": []
    },
    {
      "cell_type": "markdown",
      "metadata": {
        "id": "aPg_6PkbHWfA",
        "colab_type": "text"
      },
      "source": [
        "# Xử lý dữ liệu "
      ]
    },
    {
      "cell_type": "code",
      "metadata": {
        "scrolled": true,
        "tags": [],
        "id": "Cn_NtqrWD4q9",
        "colab_type": "code",
        "colab": {
          "base_uri": "https://localhost:8080/",
          "height": 224
        },
        "outputId": "2c06de00-5dd8-42d2-fd8f-b5950fdfd2c5"
      },
      "source": [
        "#import books, users, ratings clean data\n",
        "books, users, ratings = get_clean_data(path=\"/content/drive/My Drive/Colab Notebooks/recommendation_system/data/\")"
      ],
      "execution_count": 2,
      "outputs": [
        {
          "output_type": "stream",
          "text": [
            "b'Skipping line 6452: expected 8 fields, saw 9\\nSkipping line 43667: expected 8 fields, saw 10\\nSkipping line 51751: expected 8 fields, saw 9\\n'\n",
            "b'Skipping line 92038: expected 8 fields, saw 9\\nSkipping line 104319: expected 8 fields, saw 9\\nSkipping line 121768: expected 8 fields, saw 9\\n'\n",
            "b'Skipping line 144058: expected 8 fields, saw 9\\nSkipping line 150789: expected 8 fields, saw 9\\nSkipping line 157128: expected 8 fields, saw 9\\nSkipping line 180189: expected 8 fields, saw 9\\nSkipping line 185738: expected 8 fields, saw 9\\n'\n",
            "b'Skipping line 209388: expected 8 fields, saw 9\\nSkipping line 220626: expected 8 fields, saw 9\\nSkipping line 227933: expected 8 fields, saw 11\\nSkipping line 228957: expected 8 fields, saw 10\\nSkipping line 245933: expected 8 fields, saw 9\\nSkipping line 251296: expected 8 fields, saw 9\\nSkipping line 259941: expected 8 fields, saw 9\\nSkipping line 261529: expected 8 fields, saw 9\\n'\n",
            "/usr/local/lib/python3.6/dist-packages/IPython/core/interactiveshell.py:2822: DtypeWarning: Columns (3) have mixed types.Specify dtype option on import or set low_memory=False.\n",
            "  if self.run_code(code, result):\n",
            "/content/Data_cleaning.py:89: SettingWithCopyWarning: \n",
            "A value is trying to be set on a copy of a slice from a DataFrame\n",
            "\n",
            "See the caveats in the documentation: https://pandas.pydata.org/pandas-docs/stable/user_guide/indexing.html#returning-a-view-versus-a-copy\n",
            "  df_users.age[(df_users.age == 0) | (df_users.age > 122)] = None\n"
          ],
          "name": "stderr"
        }
      ]
    },
    {
      "cell_type": "code",
      "metadata": {
        "scrolled": true,
        "id": "U2oEaie9D4rD",
        "colab_type": "code",
        "colab": {
          "base_uri": "https://localhost:8080/",
          "height": 411
        },
        "outputId": "ecc7d1cf-bcbe-48dd-e6b4-3fc1ee2e8878"
      },
      "source": [
        "books.head()"
      ],
      "execution_count": 3,
      "outputs": [
        {
          "output_type": "execute_result",
          "data": {
            "text/html": [
              "<div>\n",
              "<style scoped>\n",
              "    .dataframe tbody tr th:only-of-type {\n",
              "        vertical-align: middle;\n",
              "    }\n",
              "\n",
              "    .dataframe tbody tr th {\n",
              "        vertical-align: top;\n",
              "    }\n",
              "\n",
              "    .dataframe thead th {\n",
              "        text-align: right;\n",
              "    }\n",
              "</style>\n",
              "<table border=\"1\" class=\"dataframe\">\n",
              "  <thead>\n",
              "    <tr style=\"text-align: right;\">\n",
              "      <th></th>\n",
              "      <th>isbn</th>\n",
              "      <th>title</th>\n",
              "      <th>author</th>\n",
              "      <th>pub_year</th>\n",
              "      <th>publisher</th>\n",
              "      <th>url_s</th>\n",
              "      <th>url_m</th>\n",
              "      <th>url_l</th>\n",
              "    </tr>\n",
              "  </thead>\n",
              "  <tbody>\n",
              "    <tr>\n",
              "      <th>0</th>\n",
              "      <td>0195153448</td>\n",
              "      <td>Classical Mythology</td>\n",
              "      <td>Mark P. O. Morford</td>\n",
              "      <td>2002.0</td>\n",
              "      <td>Oxford University Press</td>\n",
              "      <td>http://images.amazon.com/images/P/0195153448.0...</td>\n",
              "      <td>http://images.amazon.com/images/P/0195153448.0...</td>\n",
              "      <td>http://images.amazon.com/images/P/0195153448.0...</td>\n",
              "    </tr>\n",
              "    <tr>\n",
              "      <th>1</th>\n",
              "      <td>0002005018</td>\n",
              "      <td>Clara Callan</td>\n",
              "      <td>Richard Bruce Wright</td>\n",
              "      <td>2001.0</td>\n",
              "      <td>HarperFlamingo Canada</td>\n",
              "      <td>http://images.amazon.com/images/P/0002005018.0...</td>\n",
              "      <td>http://images.amazon.com/images/P/0002005018.0...</td>\n",
              "      <td>http://images.amazon.com/images/P/0002005018.0...</td>\n",
              "    </tr>\n",
              "    <tr>\n",
              "      <th>2</th>\n",
              "      <td>0060973129</td>\n",
              "      <td>Decision in Normandy</td>\n",
              "      <td>Carlo D'Este</td>\n",
              "      <td>1991.0</td>\n",
              "      <td>HarperPerennial</td>\n",
              "      <td>http://images.amazon.com/images/P/0060973129.0...</td>\n",
              "      <td>http://images.amazon.com/images/P/0060973129.0...</td>\n",
              "      <td>http://images.amazon.com/images/P/0060973129.0...</td>\n",
              "    </tr>\n",
              "    <tr>\n",
              "      <th>3</th>\n",
              "      <td>0374157065</td>\n",
              "      <td>Flu: The Story of the Great Influenza Pandemic...</td>\n",
              "      <td>Gina Bari Kolata</td>\n",
              "      <td>1999.0</td>\n",
              "      <td>Farrar Straus Giroux</td>\n",
              "      <td>http://images.amazon.com/images/P/0374157065.0...</td>\n",
              "      <td>http://images.amazon.com/images/P/0374157065.0...</td>\n",
              "      <td>http://images.amazon.com/images/P/0374157065.0...</td>\n",
              "    </tr>\n",
              "    <tr>\n",
              "      <th>4</th>\n",
              "      <td>0393045218</td>\n",
              "      <td>The Mummies of Urumchi</td>\n",
              "      <td>E. J. W. Barber</td>\n",
              "      <td>1999.0</td>\n",
              "      <td>W. W. Norton &amp;amp; Company</td>\n",
              "      <td>http://images.amazon.com/images/P/0393045218.0...</td>\n",
              "      <td>http://images.amazon.com/images/P/0393045218.0...</td>\n",
              "      <td>http://images.amazon.com/images/P/0393045218.0...</td>\n",
              "    </tr>\n",
              "  </tbody>\n",
              "</table>\n",
              "</div>"
            ],
            "text/plain": [
              "         isbn  ...                                              url_l\n",
              "0  0195153448  ...  http://images.amazon.com/images/P/0195153448.0...\n",
              "1  0002005018  ...  http://images.amazon.com/images/P/0002005018.0...\n",
              "2  0060973129  ...  http://images.amazon.com/images/P/0060973129.0...\n",
              "3  0374157065  ...  http://images.amazon.com/images/P/0374157065.0...\n",
              "4  0393045218  ...  http://images.amazon.com/images/P/0393045218.0...\n",
              "\n",
              "[5 rows x 8 columns]"
            ]
          },
          "metadata": {
            "tags": []
          },
          "execution_count": 3
        }
      ]
    },
    {
      "cell_type": "code",
      "metadata": {
        "id": "FtmPOI5qD4rH",
        "colab_type": "code",
        "colab": {
          "base_uri": "https://localhost:8080/",
          "height": 204
        },
        "outputId": "8d386c25-4182-47fd-fcce-0130e0934a91"
      },
      "source": [
        "ratings.head()"
      ],
      "execution_count": 4,
      "outputs": [
        {
          "output_type": "execute_result",
          "data": {
            "text/html": [
              "<div>\n",
              "<style scoped>\n",
              "    .dataframe tbody tr th:only-of-type {\n",
              "        vertical-align: middle;\n",
              "    }\n",
              "\n",
              "    .dataframe tbody tr th {\n",
              "        vertical-align: top;\n",
              "    }\n",
              "\n",
              "    .dataframe thead th {\n",
              "        text-align: right;\n",
              "    }\n",
              "</style>\n",
              "<table border=\"1\" class=\"dataframe\">\n",
              "  <thead>\n",
              "    <tr style=\"text-align: right;\">\n",
              "      <th></th>\n",
              "      <th>user</th>\n",
              "      <th>isbn</th>\n",
              "      <th>rating</th>\n",
              "    </tr>\n",
              "  </thead>\n",
              "  <tbody>\n",
              "    <tr>\n",
              "      <th>0</th>\n",
              "      <td>276725</td>\n",
              "      <td>034545104X</td>\n",
              "      <td>0</td>\n",
              "    </tr>\n",
              "    <tr>\n",
              "      <th>1</th>\n",
              "      <td>276726</td>\n",
              "      <td>0155061224</td>\n",
              "      <td>5</td>\n",
              "    </tr>\n",
              "    <tr>\n",
              "      <th>2</th>\n",
              "      <td>276727</td>\n",
              "      <td>0446520802</td>\n",
              "      <td>0</td>\n",
              "    </tr>\n",
              "    <tr>\n",
              "      <th>3</th>\n",
              "      <td>276729</td>\n",
              "      <td>052165615X</td>\n",
              "      <td>3</td>\n",
              "    </tr>\n",
              "    <tr>\n",
              "      <th>4</th>\n",
              "      <td>276729</td>\n",
              "      <td>0521795028</td>\n",
              "      <td>6</td>\n",
              "    </tr>\n",
              "  </tbody>\n",
              "</table>\n",
              "</div>"
            ],
            "text/plain": [
              "     user        isbn  rating\n",
              "0  276725  034545104X       0\n",
              "1  276726  0155061224       5\n",
              "2  276727  0446520802       0\n",
              "3  276729  052165615X       3\n",
              "4  276729  0521795028       6"
            ]
          },
          "metadata": {
            "tags": []
          },
          "execution_count": 4
        }
      ]
    },
    {
      "cell_type": "code",
      "metadata": {
        "scrolled": true,
        "id": "1JnOYqluD4rM",
        "colab_type": "code",
        "colab": {
          "base_uri": "https://localhost:8080/",
          "height": 221
        },
        "outputId": "6fc2579d-28fb-408a-fffe-3d0f787d2562"
      },
      "source": [
        "#number of ratings received by each book\n",
        "usersPerIsbn = ratings['isbn'].value_counts()\n",
        "usersPerIsbn"
      ],
      "execution_count": 5,
      "outputs": [
        {
          "output_type": "execute_result",
          "data": {
            "text/plain": [
              "0971880107    2502\n",
              "0316666343    1295\n",
              "0385504209     883\n",
              "0060928336     732\n",
              "0312195516     723\n",
              "              ... \n",
              "9728440030       1\n",
              "0425022021       1\n",
              "0263745082       1\n",
              "3870700513       1\n",
              "0836217233       1\n",
              "Name: isbn, Length: 340556, dtype: int64"
            ]
          },
          "metadata": {
            "tags": []
          },
          "execution_count": 5
        }
      ]
    },
    {
      "cell_type": "code",
      "metadata": {
        "id": "WnD7-dcVD4rT",
        "colab_type": "code",
        "colab": {}
      },
      "source": [
        "books_10 = books[books['isbn'].isin(usersPerIsbn[usersPerIsbn>10].index)]\n",
        "books_10 = books_10.reset_index(drop=True)\n",
        "# books_10 = books[:50000]"
      ],
      "execution_count": 6,
      "outputs": []
    },
    {
      "cell_type": "markdown",
      "metadata": {
        "id": "C5m7xCc9D4rd",
        "colab_type": "text"
      },
      "source": [
        "# Chỉ sử dụng `Book-Title`"
      ]
    },
    {
      "cell_type": "code",
      "metadata": {
        "id": "UDvxXjcxD4re",
        "colab_type": "code",
        "colab": {
          "base_uri": "https://localhost:8080/",
          "height": 34
        },
        "outputId": "561ba12f-5349-4b85-cb4d-a748f34eacc9"
      },
      "source": [
        "vectorizer = TfidfVectorizer(analyzer='word')\n",
        "#build book-title tfidf matrix\n",
        "tfidf_matrix = vectorizer.fit_transform(books_10['title'])\n",
        "tfidf_matrix.shape"
      ],
      "execution_count": 7,
      "outputs": [
        {
          "output_type": "execute_result",
          "data": {
            "text/plain": [
              "(15452, 10972)"
            ]
          },
          "metadata": {
            "tags": []
          },
          "execution_count": 7
        }
      ]
    },
    {
      "cell_type": "code",
      "metadata": {
        "id": "2qhAOtF3D4r6",
        "colab_type": "code",
        "colab": {}
      },
      "source": [
        "#Function to get the most similar books\n",
        "indices_n = pd.Series(books_10['isbn']).to_dict()\n",
        "inddict = dict((v,k) for k,v in indices_n.items())\n",
        "def recommend_cosine(isbn, method):\n",
        "    id = inddict[isbn]\n",
        "    # sorting them and getting top 5\n",
        "    similarity_scores = list(enumerate(method[id]))\n",
        "    similarity_scores = sorted(similarity_scores, key=lambda x: x[1], reverse=True)\n",
        "    similarity_scores = similarity_scores[:6]\n",
        "    \n",
        "    #Get the books index\n",
        "    books_index = [i[0] for i in similarity_scores]\n",
        "    \n",
        "    #Return the top 5 most similar books using integar-location based indexing (iloc)\n",
        "    return books_10.iloc[books_index]\n",
        "\n",
        "def recommend_euclidean (isbn, method):\n",
        "    id = inddict[isbn]\n",
        "    # Get the pairwise similarity scores of all books compared that book,\n",
        "    # sorting them and getting top 5\n",
        "    similarity_scores = list(enumerate(method[id]))\n",
        "    similarity_scores = sorted(similarity_scores, key=lambda x: x[1])\n",
        "    similarity_scores = similarity_scores[:6]\n",
        "\n",
        "    #Get the books index\n",
        "    books_index = [i[0] for i in similarity_scores]\n",
        "    \n",
        "    #Return the top 5 most similar books using integar-location based indexing (iloc)\n",
        "    return books_10.iloc[books_index]"
      ],
      "execution_count": 8,
      "outputs": []
    },
    {
      "cell_type": "code",
      "metadata": {
        "id": "LMKKKmZ1D4sB",
        "colab_type": "code",
        "colab": {
          "base_uri": "https://localhost:8080/",
          "height": 170
        },
        "outputId": "9183fccb-8136-43b1-cb8a-7ef76e3af901"
      },
      "source": [
        "isbn_test = \"0671723650\"\n",
        "books_10.iloc[inddict[isbn_test]]"
      ],
      "execution_count": 9,
      "outputs": [
        {
          "output_type": "execute_result",
          "data": {
            "text/plain": [
              "isbn                                                0671723650\n",
              "title                  How To Win Friends And Influence People\n",
              "author                                           Dale Carnegie\n",
              "pub_year                                                  1990\n",
              "publisher                                               Pocket\n",
              "url_s        http://images.amazon.com/images/P/0671723650.0...\n",
              "url_m        http://images.amazon.com/images/P/0671723650.0...\n",
              "url_l        http://images.amazon.com/images/P/0671723650.0...\n",
              "Name: 2755, dtype: object"
            ]
          },
          "metadata": {
            "tags": []
          },
          "execution_count": 9
        }
      ]
    },
    {
      "cell_type": "markdown",
      "metadata": {
        "id": "JqmfEcXiHsmX",
        "colab_type": "text"
      },
      "source": [
        "## Cosine similarity"
      ]
    },
    {
      "cell_type": "code",
      "metadata": {
        "id": "jqyS2GZKT0uf",
        "colab_type": "code",
        "colab": {}
      },
      "source": [
        "cosine_similarity = linear_kernel(tfidf_matrix, tfidf_matrix)\n"
      ],
      "execution_count": 10,
      "outputs": []
    },
    {
      "cell_type": "code",
      "metadata": {
        "scrolled": true,
        "id": "2C5QLSzED4ru",
        "colab_type": "code",
        "colab": {
          "base_uri": "https://localhost:8080/",
          "height": 547
        },
        "outputId": "49b8dc21-176d-471f-89ed-f55a231a95e4"
      },
      "source": [
        "cosine_similarity = linear_kernel(tfidf_matrix, tfidf_matrix)\n",
        "recommend_cosine(isbn_test, cosine_similarity).head()"
      ],
      "execution_count": 11,
      "outputs": [
        {
          "output_type": "execute_result",
          "data": {
            "text/html": [
              "<div>\n",
              "<style scoped>\n",
              "    .dataframe tbody tr th:only-of-type {\n",
              "        vertical-align: middle;\n",
              "    }\n",
              "\n",
              "    .dataframe tbody tr th {\n",
              "        vertical-align: top;\n",
              "    }\n",
              "\n",
              "    .dataframe thead th {\n",
              "        text-align: right;\n",
              "    }\n",
              "</style>\n",
              "<table border=\"1\" class=\"dataframe\">\n",
              "  <thead>\n",
              "    <tr style=\"text-align: right;\">\n",
              "      <th></th>\n",
              "      <th>isbn</th>\n",
              "      <th>title</th>\n",
              "      <th>author</th>\n",
              "      <th>pub_year</th>\n",
              "      <th>publisher</th>\n",
              "      <th>url_s</th>\n",
              "      <th>url_m</th>\n",
              "      <th>url_l</th>\n",
              "    </tr>\n",
              "  </thead>\n",
              "  <tbody>\n",
              "    <tr>\n",
              "      <th>2755</th>\n",
              "      <td>0671723650</td>\n",
              "      <td>How To Win Friends And Influence People</td>\n",
              "      <td>Dale Carnegie</td>\n",
              "      <td>1990.0</td>\n",
              "      <td>Pocket</td>\n",
              "      <td>http://images.amazon.com/images/P/0671723650.0...</td>\n",
              "      <td>http://images.amazon.com/images/P/0671723650.0...</td>\n",
              "      <td>http://images.amazon.com/images/P/0671723650.0...</td>\n",
              "    </tr>\n",
              "    <tr>\n",
              "      <th>584</th>\n",
              "      <td>067142517X</td>\n",
              "      <td>HOW TO WIN FRIENDS, REVISED</td>\n",
              "      <td>Dale Carnegie</td>\n",
              "      <td>1981.0</td>\n",
              "      <td>Simon &amp;amp; Schuster</td>\n",
              "      <td>http://images.amazon.com/images/P/067142517X.0...</td>\n",
              "      <td>http://images.amazon.com/images/P/067142517X.0...</td>\n",
              "      <td>http://images.amazon.com/images/P/067142517X.0...</td>\n",
              "    </tr>\n",
              "    <tr>\n",
              "      <th>1579</th>\n",
              "      <td>030681188X</td>\n",
              "      <td>How to Lose Friends &amp;amp; Alienate People</td>\n",
              "      <td>Toby Young</td>\n",
              "      <td>2002.0</td>\n",
              "      <td>DaCapo Press</td>\n",
              "      <td>http://images.amazon.com/images/P/030681188X.0...</td>\n",
              "      <td>http://images.amazon.com/images/P/030681188X.0...</td>\n",
              "      <td>http://images.amazon.com/images/P/030681188X.0...</td>\n",
              "    </tr>\n",
              "    <tr>\n",
              "      <th>12304</th>\n",
              "      <td>0306812274</td>\n",
              "      <td>How to Lose Friends &amp;amp; Alienate People</td>\n",
              "      <td>Toby Young</td>\n",
              "      <td>2003.0</td>\n",
              "      <td>Da Capo Press</td>\n",
              "      <td>http://images.amazon.com/images/P/0306812274.0...</td>\n",
              "      <td>http://images.amazon.com/images/P/0306812274.0...</td>\n",
              "      <td>http://images.amazon.com/images/P/0306812274.0...</td>\n",
              "    </tr>\n",
              "    <tr>\n",
              "      <th>5657</th>\n",
              "      <td>0451209443</td>\n",
              "      <td>Sphere of Influence</td>\n",
              "      <td>Kyle Mills</td>\n",
              "      <td>2003.0</td>\n",
              "      <td>Signet Book</td>\n",
              "      <td>http://images.amazon.com/images/P/0451209443.0...</td>\n",
              "      <td>http://images.amazon.com/images/P/0451209443.0...</td>\n",
              "      <td>http://images.amazon.com/images/P/0451209443.0...</td>\n",
              "    </tr>\n",
              "  </tbody>\n",
              "</table>\n",
              "</div>"
            ],
            "text/plain": [
              "             isbn  ...                                              url_l\n",
              "2755   0671723650  ...  http://images.amazon.com/images/P/0671723650.0...\n",
              "584    067142517X  ...  http://images.amazon.com/images/P/067142517X.0...\n",
              "1579   030681188X  ...  http://images.amazon.com/images/P/030681188X.0...\n",
              "12304  0306812274  ...  http://images.amazon.com/images/P/0306812274.0...\n",
              "5657   0451209443  ...  http://images.amazon.com/images/P/0451209443.0...\n",
              "\n",
              "[5 rows x 8 columns]"
            ]
          },
          "metadata": {
            "tags": []
          },
          "execution_count": 11
        }
      ]
    },
    {
      "cell_type": "markdown",
      "metadata": {
        "id": "MYamcYQ_H41h",
        "colab_type": "text"
      },
      "source": [
        "## Euclidean Distance"
      ]
    },
    {
      "cell_type": "code",
      "metadata": {
        "id": "c6TgntENID_6",
        "colab_type": "code",
        "colab": {
          "base_uri": "https://localhost:8080/",
          "height": 459
        },
        "outputId": "5ec81d24-9fda-468f-e261-3819101cb9e0"
      },
      "source": [
        "euclidean = euclidean_distances(tfidf_matrix)\n",
        "recommend_euclidean(isbn_test, euclidean)\n"
      ],
      "execution_count": 12,
      "outputs": [
        {
          "output_type": "execute_result",
          "data": {
            "text/html": [
              "<div>\n",
              "<style scoped>\n",
              "    .dataframe tbody tr th:only-of-type {\n",
              "        vertical-align: middle;\n",
              "    }\n",
              "\n",
              "    .dataframe tbody tr th {\n",
              "        vertical-align: top;\n",
              "    }\n",
              "\n",
              "    .dataframe thead th {\n",
              "        text-align: right;\n",
              "    }\n",
              "</style>\n",
              "<table border=\"1\" class=\"dataframe\">\n",
              "  <thead>\n",
              "    <tr style=\"text-align: right;\">\n",
              "      <th></th>\n",
              "      <th>isbn</th>\n",
              "      <th>title</th>\n",
              "      <th>author</th>\n",
              "      <th>pub_year</th>\n",
              "      <th>publisher</th>\n",
              "      <th>url_s</th>\n",
              "      <th>url_m</th>\n",
              "      <th>url_l</th>\n",
              "    </tr>\n",
              "  </thead>\n",
              "  <tbody>\n",
              "    <tr>\n",
              "      <th>2755</th>\n",
              "      <td>0671723650</td>\n",
              "      <td>How To Win Friends And Influence People</td>\n",
              "      <td>Dale Carnegie</td>\n",
              "      <td>1990.0</td>\n",
              "      <td>Pocket</td>\n",
              "      <td>http://images.amazon.com/images/P/0671723650.0...</td>\n",
              "      <td>http://images.amazon.com/images/P/0671723650.0...</td>\n",
              "      <td>http://images.amazon.com/images/P/0671723650.0...</td>\n",
              "    </tr>\n",
              "    <tr>\n",
              "      <th>584</th>\n",
              "      <td>067142517X</td>\n",
              "      <td>HOW TO WIN FRIENDS, REVISED</td>\n",
              "      <td>Dale Carnegie</td>\n",
              "      <td>1981.0</td>\n",
              "      <td>Simon &amp;amp; Schuster</td>\n",
              "      <td>http://images.amazon.com/images/P/067142517X.0...</td>\n",
              "      <td>http://images.amazon.com/images/P/067142517X.0...</td>\n",
              "      <td>http://images.amazon.com/images/P/067142517X.0...</td>\n",
              "    </tr>\n",
              "    <tr>\n",
              "      <th>2050</th>\n",
              "      <td>0151010633</td>\n",
              "      <td>Q</td>\n",
              "      <td>Luther Blissett</td>\n",
              "      <td>2004.0</td>\n",
              "      <td>Harcourt</td>\n",
              "      <td>http://images.amazon.com/images/P/0151010633.0...</td>\n",
              "      <td>http://images.amazon.com/images/P/0151010633.0...</td>\n",
              "      <td>http://images.amazon.com/images/P/0151010633.0...</td>\n",
              "    </tr>\n",
              "    <tr>\n",
              "      <th>4208</th>\n",
              "      <td>0452281881</td>\n",
              "      <td>e</td>\n",
              "      <td>Matt Beaumont</td>\n",
              "      <td>2000.0</td>\n",
              "      <td>Plume Books</td>\n",
              "      <td>http://images.amazon.com/images/P/0452281881.0...</td>\n",
              "      <td>http://images.amazon.com/images/P/0452281881.0...</td>\n",
              "      <td>http://images.amazon.com/images/P/0452281881.0...</td>\n",
              "    </tr>\n",
              "    <tr>\n",
              "      <th>5043</th>\n",
              "      <td>0449216527</td>\n",
              "      <td>S.</td>\n",
              "      <td>John Updike</td>\n",
              "      <td>1994.0</td>\n",
              "      <td>Fawcett Books</td>\n",
              "      <td>http://images.amazon.com/images/P/0449216527.0...</td>\n",
              "      <td>http://images.amazon.com/images/P/0449216527.0...</td>\n",
              "      <td>http://images.amazon.com/images/P/0449216527.0...</td>\n",
              "    </tr>\n",
              "    <tr>\n",
              "      <th>9335</th>\n",
              "      <td>155166822X</td>\n",
              "      <td>T L C</td>\n",
              "      <td>Barbara Delinsky</td>\n",
              "      <td>2001.0</td>\n",
              "      <td>Mira</td>\n",
              "      <td>http://images.amazon.com/images/P/155166822X.0...</td>\n",
              "      <td>http://images.amazon.com/images/P/155166822X.0...</td>\n",
              "      <td>http://images.amazon.com/images/P/155166822X.0...</td>\n",
              "    </tr>\n",
              "  </tbody>\n",
              "</table>\n",
              "</div>"
            ],
            "text/plain": [
              "            isbn  ...                                              url_l\n",
              "2755  0671723650  ...  http://images.amazon.com/images/P/0671723650.0...\n",
              "584   067142517X  ...  http://images.amazon.com/images/P/067142517X.0...\n",
              "2050  0151010633  ...  http://images.amazon.com/images/P/0151010633.0...\n",
              "4208  0452281881  ...  http://images.amazon.com/images/P/0452281881.0...\n",
              "5043  0449216527  ...  http://images.amazon.com/images/P/0449216527.0...\n",
              "9335  155166822X  ...  http://images.amazon.com/images/P/155166822X.0...\n",
              "\n",
              "[6 rows x 8 columns]"
            ]
          },
          "metadata": {
            "tags": []
          },
          "execution_count": 12
        }
      ]
    },
    {
      "cell_type": "markdown",
      "metadata": {
        "id": "YSgdTFLYD4sG",
        "colab_type": "text"
      },
      "source": [
        "# Sử dụng 3 trường `Book-Title`, `Book-Author`, `Publisher`\n"
      ]
    },
    {
      "cell_type": "code",
      "metadata": {
        "id": "GVLee6xpD4sK",
        "colab_type": "code",
        "colab": {
          "base_uri": "https://localhost:8080/",
          "height": 34
        },
        "outputId": "ee6e230e-0eb7-45e4-c8ac-e62c1ce789b8"
      },
      "source": [
        "books_10['all_content'] = books_10['title'] + books_10['author'] + books_10['publisher']\n",
        "tfidf_all_content = vectorizer.fit_transform(books_10['all_content'])\n",
        "tfidf_all_content.shape"
      ],
      "execution_count": 14,
      "outputs": [
        {
          "output_type": "execute_result",
          "data": {
            "text/plain": [
              "(15452, 25806)"
            ]
          },
          "metadata": {
            "tags": []
          },
          "execution_count": 14
        }
      ]
    },
    {
      "cell_type": "markdown",
      "metadata": {
        "id": "6oVHQYWXI-gi",
        "colab_type": "text"
      },
      "source": [
        "## Cosine similarity"
      ]
    },
    {
      "cell_type": "code",
      "metadata": {
        "id": "hZ1zJ20WD4sR",
        "colab_type": "code",
        "colab": {
          "base_uri": "https://localhost:8080/",
          "height": 731
        },
        "outputId": "eb1efb1b-c090-4d4f-f17d-45458266308e"
      },
      "source": [
        "# comping cosine similarity matrix using linear_kernal of sklearn\n",
        "cosine_similarity_all_content = linear_kernel(tfidf_all_content, tfidf_all_content)\n",
        "recommend_cosine(isbn_test, cosine_similarity_all_content)"
      ],
      "execution_count": 15,
      "outputs": [
        {
          "output_type": "execute_result",
          "data": {
            "text/html": [
              "<div>\n",
              "<style scoped>\n",
              "    .dataframe tbody tr th:only-of-type {\n",
              "        vertical-align: middle;\n",
              "    }\n",
              "\n",
              "    .dataframe tbody tr th {\n",
              "        vertical-align: top;\n",
              "    }\n",
              "\n",
              "    .dataframe thead th {\n",
              "        text-align: right;\n",
              "    }\n",
              "</style>\n",
              "<table border=\"1\" class=\"dataframe\">\n",
              "  <thead>\n",
              "    <tr style=\"text-align: right;\">\n",
              "      <th></th>\n",
              "      <th>isbn</th>\n",
              "      <th>title</th>\n",
              "      <th>author</th>\n",
              "      <th>pub_year</th>\n",
              "      <th>publisher</th>\n",
              "      <th>url_s</th>\n",
              "      <th>url_m</th>\n",
              "      <th>url_l</th>\n",
              "      <th>all_content</th>\n",
              "    </tr>\n",
              "  </thead>\n",
              "  <tbody>\n",
              "    <tr>\n",
              "      <th>2755</th>\n",
              "      <td>0671723650</td>\n",
              "      <td>How To Win Friends And Influence People</td>\n",
              "      <td>Dale Carnegie</td>\n",
              "      <td>1990.0</td>\n",
              "      <td>Pocket</td>\n",
              "      <td>http://images.amazon.com/images/P/0671723650.0...</td>\n",
              "      <td>http://images.amazon.com/images/P/0671723650.0...</td>\n",
              "      <td>http://images.amazon.com/images/P/0671723650.0...</td>\n",
              "      <td>How To Win Friends And Influence PeopleDale Ca...</td>\n",
              "    </tr>\n",
              "    <tr>\n",
              "      <th>584</th>\n",
              "      <td>067142517X</td>\n",
              "      <td>HOW TO WIN FRIENDS, REVISED</td>\n",
              "      <td>Dale Carnegie</td>\n",
              "      <td>1981.0</td>\n",
              "      <td>Simon &amp;amp; Schuster</td>\n",
              "      <td>http://images.amazon.com/images/P/067142517X.0...</td>\n",
              "      <td>http://images.amazon.com/images/P/067142517X.0...</td>\n",
              "      <td>http://images.amazon.com/images/P/067142517X.0...</td>\n",
              "      <td>HOW TO WIN FRIENDS, REVISEDDale CarnegieSimon ...</td>\n",
              "    </tr>\n",
              "    <tr>\n",
              "      <th>2756</th>\n",
              "      <td>0671733354</td>\n",
              "      <td>How to Stop Worrying and Start Living</td>\n",
              "      <td>Dale Carnegie</td>\n",
              "      <td>1990.0</td>\n",
              "      <td>Pocket</td>\n",
              "      <td>http://images.amazon.com/images/P/0671733354.0...</td>\n",
              "      <td>http://images.amazon.com/images/P/0671733354.0...</td>\n",
              "      <td>http://images.amazon.com/images/P/0671733354.0...</td>\n",
              "      <td>How to Stop Worrying and Start LivingDale Carn...</td>\n",
              "    </tr>\n",
              "    <tr>\n",
              "      <th>1579</th>\n",
              "      <td>030681188X</td>\n",
              "      <td>How to Lose Friends &amp;amp; Alienate People</td>\n",
              "      <td>Toby Young</td>\n",
              "      <td>2002.0</td>\n",
              "      <td>DaCapo Press</td>\n",
              "      <td>http://images.amazon.com/images/P/030681188X.0...</td>\n",
              "      <td>http://images.amazon.com/images/P/030681188X.0...</td>\n",
              "      <td>http://images.amazon.com/images/P/030681188X.0...</td>\n",
              "      <td>How to Lose Friends &amp;amp; Alienate PeopleToby ...</td>\n",
              "    </tr>\n",
              "    <tr>\n",
              "      <th>12304</th>\n",
              "      <td>0306812274</td>\n",
              "      <td>How to Lose Friends &amp;amp; Alienate People</td>\n",
              "      <td>Toby Young</td>\n",
              "      <td>2003.0</td>\n",
              "      <td>Da Capo Press</td>\n",
              "      <td>http://images.amazon.com/images/P/0306812274.0...</td>\n",
              "      <td>http://images.amazon.com/images/P/0306812274.0...</td>\n",
              "      <td>http://images.amazon.com/images/P/0306812274.0...</td>\n",
              "      <td>How to Lose Friends &amp;amp; Alienate PeopleToby ...</td>\n",
              "    </tr>\n",
              "    <tr>\n",
              "      <th>11885</th>\n",
              "      <td>0875420133</td>\n",
              "      <td>How to See and Read the Aura (Llewellyn's How ...</td>\n",
              "      <td>Ted Andrews</td>\n",
              "      <td>1991.0</td>\n",
              "      <td>Llewellyn Publications</td>\n",
              "      <td>http://images.amazon.com/images/P/0875420133.0...</td>\n",
              "      <td>http://images.amazon.com/images/P/0875420133.0...</td>\n",
              "      <td>http://images.amazon.com/images/P/0875420133.0...</td>\n",
              "      <td>How to See and Read the Aura (Llewellyn's How ...</td>\n",
              "    </tr>\n",
              "  </tbody>\n",
              "</table>\n",
              "</div>"
            ],
            "text/plain": [
              "             isbn  ...                                        all_content\n",
              "2755   0671723650  ...  How To Win Friends And Influence PeopleDale Ca...\n",
              "584    067142517X  ...  HOW TO WIN FRIENDS, REVISEDDale CarnegieSimon ...\n",
              "2756   0671733354  ...  How to Stop Worrying and Start LivingDale Carn...\n",
              "1579   030681188X  ...  How to Lose Friends &amp; Alienate PeopleToby ...\n",
              "12304  0306812274  ...  How to Lose Friends &amp; Alienate PeopleToby ...\n",
              "11885  0875420133  ...  How to See and Read the Aura (Llewellyn's How ...\n",
              "\n",
              "[6 rows x 9 columns]"
            ]
          },
          "metadata": {
            "tags": []
          },
          "execution_count": 15
        }
      ]
    },
    {
      "cell_type": "markdown",
      "metadata": {
        "id": "tPnBuD2ND4sY",
        "colab_type": "text"
      },
      "source": [
        "---"
      ]
    },
    {
      "cell_type": "markdown",
      "metadata": {
        "id": "oLBUOyrBD4sb",
        "colab_type": "text"
      },
      "source": [
        "## Euclidean Distance"
      ]
    },
    {
      "cell_type": "code",
      "metadata": {
        "id": "zCd-FfrlD4se",
        "colab_type": "code",
        "colab": {
          "base_uri": "https://localhost:8080/",
          "height": 731
        },
        "outputId": "268c86a7-a7d7-494c-fcdd-f648c1afe42c"
      },
      "source": [
        "euclidean_all_contend = euclidean_distances(tfidf_all_content)\n",
        "recommend_euclidean(isbn_test, euclidean_all_contend)"
      ],
      "execution_count": 16,
      "outputs": [
        {
          "output_type": "execute_result",
          "data": {
            "text/html": [
              "<div>\n",
              "<style scoped>\n",
              "    .dataframe tbody tr th:only-of-type {\n",
              "        vertical-align: middle;\n",
              "    }\n",
              "\n",
              "    .dataframe tbody tr th {\n",
              "        vertical-align: top;\n",
              "    }\n",
              "\n",
              "    .dataframe thead th {\n",
              "        text-align: right;\n",
              "    }\n",
              "</style>\n",
              "<table border=\"1\" class=\"dataframe\">\n",
              "  <thead>\n",
              "    <tr style=\"text-align: right;\">\n",
              "      <th></th>\n",
              "      <th>isbn</th>\n",
              "      <th>title</th>\n",
              "      <th>author</th>\n",
              "      <th>pub_year</th>\n",
              "      <th>publisher</th>\n",
              "      <th>url_s</th>\n",
              "      <th>url_m</th>\n",
              "      <th>url_l</th>\n",
              "      <th>all_content</th>\n",
              "    </tr>\n",
              "  </thead>\n",
              "  <tbody>\n",
              "    <tr>\n",
              "      <th>2755</th>\n",
              "      <td>0671723650</td>\n",
              "      <td>How To Win Friends And Influence People</td>\n",
              "      <td>Dale Carnegie</td>\n",
              "      <td>1990.0</td>\n",
              "      <td>Pocket</td>\n",
              "      <td>http://images.amazon.com/images/P/0671723650.0...</td>\n",
              "      <td>http://images.amazon.com/images/P/0671723650.0...</td>\n",
              "      <td>http://images.amazon.com/images/P/0671723650.0...</td>\n",
              "      <td>How To Win Friends And Influence PeopleDale Ca...</td>\n",
              "    </tr>\n",
              "    <tr>\n",
              "      <th>584</th>\n",
              "      <td>067142517X</td>\n",
              "      <td>HOW TO WIN FRIENDS, REVISED</td>\n",
              "      <td>Dale Carnegie</td>\n",
              "      <td>1981.0</td>\n",
              "      <td>Simon &amp;amp; Schuster</td>\n",
              "      <td>http://images.amazon.com/images/P/067142517X.0...</td>\n",
              "      <td>http://images.amazon.com/images/P/067142517X.0...</td>\n",
              "      <td>http://images.amazon.com/images/P/067142517X.0...</td>\n",
              "      <td>HOW TO WIN FRIENDS, REVISEDDale CarnegieSimon ...</td>\n",
              "    </tr>\n",
              "    <tr>\n",
              "      <th>2756</th>\n",
              "      <td>0671733354</td>\n",
              "      <td>How to Stop Worrying and Start Living</td>\n",
              "      <td>Dale Carnegie</td>\n",
              "      <td>1990.0</td>\n",
              "      <td>Pocket</td>\n",
              "      <td>http://images.amazon.com/images/P/0671733354.0...</td>\n",
              "      <td>http://images.amazon.com/images/P/0671733354.0...</td>\n",
              "      <td>http://images.amazon.com/images/P/0671733354.0...</td>\n",
              "      <td>How to Stop Worrying and Start LivingDale Carn...</td>\n",
              "    </tr>\n",
              "    <tr>\n",
              "      <th>1579</th>\n",
              "      <td>030681188X</td>\n",
              "      <td>How to Lose Friends &amp;amp; Alienate People</td>\n",
              "      <td>Toby Young</td>\n",
              "      <td>2002.0</td>\n",
              "      <td>DaCapo Press</td>\n",
              "      <td>http://images.amazon.com/images/P/030681188X.0...</td>\n",
              "      <td>http://images.amazon.com/images/P/030681188X.0...</td>\n",
              "      <td>http://images.amazon.com/images/P/030681188X.0...</td>\n",
              "      <td>How to Lose Friends &amp;amp; Alienate PeopleToby ...</td>\n",
              "    </tr>\n",
              "    <tr>\n",
              "      <th>12304</th>\n",
              "      <td>0306812274</td>\n",
              "      <td>How to Lose Friends &amp;amp; Alienate People</td>\n",
              "      <td>Toby Young</td>\n",
              "      <td>2003.0</td>\n",
              "      <td>Da Capo Press</td>\n",
              "      <td>http://images.amazon.com/images/P/0306812274.0...</td>\n",
              "      <td>http://images.amazon.com/images/P/0306812274.0...</td>\n",
              "      <td>http://images.amazon.com/images/P/0306812274.0...</td>\n",
              "      <td>How to Lose Friends &amp;amp; Alienate PeopleToby ...</td>\n",
              "    </tr>\n",
              "    <tr>\n",
              "      <th>11885</th>\n",
              "      <td>0875420133</td>\n",
              "      <td>How to See and Read the Aura (Llewellyn's How ...</td>\n",
              "      <td>Ted Andrews</td>\n",
              "      <td>1991.0</td>\n",
              "      <td>Llewellyn Publications</td>\n",
              "      <td>http://images.amazon.com/images/P/0875420133.0...</td>\n",
              "      <td>http://images.amazon.com/images/P/0875420133.0...</td>\n",
              "      <td>http://images.amazon.com/images/P/0875420133.0...</td>\n",
              "      <td>How to See and Read the Aura (Llewellyn's How ...</td>\n",
              "    </tr>\n",
              "  </tbody>\n",
              "</table>\n",
              "</div>"
            ],
            "text/plain": [
              "             isbn  ...                                        all_content\n",
              "2755   0671723650  ...  How To Win Friends And Influence PeopleDale Ca...\n",
              "584    067142517X  ...  HOW TO WIN FRIENDS, REVISEDDale CarnegieSimon ...\n",
              "2756   0671733354  ...  How to Stop Worrying and Start LivingDale Carn...\n",
              "1579   030681188X  ...  How to Lose Friends &amp; Alienate PeopleToby ...\n",
              "12304  0306812274  ...  How to Lose Friends &amp; Alienate PeopleToby ...\n",
              "11885  0875420133  ...  How to See and Read the Aura (Llewellyn's How ...\n",
              "\n",
              "[6 rows x 9 columns]"
            ]
          },
          "metadata": {
            "tags": []
          },
          "execution_count": 16
        }
      ]
    },
    {
      "cell_type": "markdown",
      "metadata": {
        "id": "a7mFblDCD4sm",
        "colab_type": "text"
      },
      "source": [
        "---"
      ]
    }
  ]
}